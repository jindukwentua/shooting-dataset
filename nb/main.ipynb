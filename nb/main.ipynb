{
 "cells": [
  {
   "cell_type": "code",
   "execution_count": 2,
   "metadata": {},
   "outputs": [],
   "source": [
    "# Importing python libraries\n",
    "import pandas as pd\n",
    "import numpy as np"
   ]
  },
  {
   "cell_type": "code",
   "execution_count": 3,
   "metadata": {},
   "outputs": [],
   "source": [
    "# Define a custom formatting function to suppress scientific notation\n",
    "def format_float(x):\n",
    "    return '%.2f' % x"
   ]
  },
  {
   "cell_type": "code",
   "execution_count": 4,
   "metadata": {},
   "outputs": [],
   "source": [
    "# Apply the custom formatting function to the entire DataFrame\n",
    "pd.options.display.float_format = format_float"
   ]
  },
  {
   "cell_type": "code",
   "execution_count": 5,
   "metadata": {},
   "outputs": [],
   "source": [
    "# Read the CSV file with the specified encoding\n",
    "df_shootings = pd.read_csv('../data/fatal-police-shootings-data.csv', encoding='latin-1', low_memory=True)\n"
   ]
  },
  {
   "cell_type": "code",
   "execution_count": 6,
   "metadata": {},
   "outputs": [],
   "source": [
    "# Read the CSV file with the specified encoding\n",
    "df_shootings_agencies = pd.read_csv('../data/fatal-police-shootings-agencies.csv', encoding='latin-1', low_memory=True)\n"
   ]
  },
  {
   "cell_type": "code",
   "execution_count": 7,
   "metadata": {},
   "outputs": [
    {
     "data": {
      "text/html": [
       "<div>\n",
       "<style scoped>\n",
       "    .dataframe tbody tr th:only-of-type {\n",
       "        vertical-align: middle;\n",
       "    }\n",
       "\n",
       "    .dataframe tbody tr th {\n",
       "        vertical-align: top;\n",
       "    }\n",
       "\n",
       "    .dataframe thead th {\n",
       "        text-align: right;\n",
       "    }\n",
       "</style>\n",
       "<table border=\"1\" class=\"dataframe\">\n",
       "  <thead>\n",
       "    <tr style=\"text-align: right;\">\n",
       "      <th></th>\n",
       "      <th>id</th>\n",
       "      <th>date</th>\n",
       "      <th>threat_type</th>\n",
       "      <th>flee_status</th>\n",
       "      <th>armed_with</th>\n",
       "      <th>city</th>\n",
       "      <th>county</th>\n",
       "      <th>state</th>\n",
       "      <th>latitude</th>\n",
       "      <th>longitude</th>\n",
       "      <th>location_precision</th>\n",
       "      <th>name</th>\n",
       "      <th>age</th>\n",
       "      <th>gender</th>\n",
       "      <th>race</th>\n",
       "      <th>race_source</th>\n",
       "      <th>was_mental_illness_related</th>\n",
       "      <th>body_camera</th>\n",
       "      <th>agency_ids</th>\n",
       "    </tr>\n",
       "  </thead>\n",
       "  <tbody>\n",
       "    <tr>\n",
       "      <th>0</th>\n",
       "      <td>3</td>\n",
       "      <td>2015-01-02</td>\n",
       "      <td>point</td>\n",
       "      <td>not</td>\n",
       "      <td>gun</td>\n",
       "      <td>Shelton</td>\n",
       "      <td>Mason</td>\n",
       "      <td>WA</td>\n",
       "      <td>47.25</td>\n",
       "      <td>-123.12</td>\n",
       "      <td>not_available</td>\n",
       "      <td>Tim Elliot</td>\n",
       "      <td>53.00</td>\n",
       "      <td>male</td>\n",
       "      <td>A</td>\n",
       "      <td>not_available</td>\n",
       "      <td>True</td>\n",
       "      <td>False</td>\n",
       "      <td>73</td>\n",
       "    </tr>\n",
       "    <tr>\n",
       "      <th>1</th>\n",
       "      <td>4</td>\n",
       "      <td>2015-01-02</td>\n",
       "      <td>point</td>\n",
       "      <td>not</td>\n",
       "      <td>gun</td>\n",
       "      <td>Aloha</td>\n",
       "      <td>Washington</td>\n",
       "      <td>OR</td>\n",
       "      <td>45.49</td>\n",
       "      <td>-122.89</td>\n",
       "      <td>not_available</td>\n",
       "      <td>Lewis Lee Lembke</td>\n",
       "      <td>47.00</td>\n",
       "      <td>male</td>\n",
       "      <td>W</td>\n",
       "      <td>not_available</td>\n",
       "      <td>False</td>\n",
       "      <td>False</td>\n",
       "      <td>70</td>\n",
       "    </tr>\n",
       "    <tr>\n",
       "      <th>2</th>\n",
       "      <td>5</td>\n",
       "      <td>2015-01-03</td>\n",
       "      <td>move</td>\n",
       "      <td>not</td>\n",
       "      <td>unarmed</td>\n",
       "      <td>Wichita</td>\n",
       "      <td>Sedgwick</td>\n",
       "      <td>KS</td>\n",
       "      <td>37.69</td>\n",
       "      <td>-97.28</td>\n",
       "      <td>not_available</td>\n",
       "      <td>John Paul Quintero</td>\n",
       "      <td>23.00</td>\n",
       "      <td>male</td>\n",
       "      <td>H</td>\n",
       "      <td>not_available</td>\n",
       "      <td>False</td>\n",
       "      <td>False</td>\n",
       "      <td>238</td>\n",
       "    </tr>\n",
       "    <tr>\n",
       "      <th>3</th>\n",
       "      <td>8</td>\n",
       "      <td>2015-01-04</td>\n",
       "      <td>point</td>\n",
       "      <td>not</td>\n",
       "      <td>replica</td>\n",
       "      <td>San Francisco</td>\n",
       "      <td>San Francisco</td>\n",
       "      <td>CA</td>\n",
       "      <td>37.76</td>\n",
       "      <td>-122.42</td>\n",
       "      <td>not_available</td>\n",
       "      <td>Matthew Hoffman</td>\n",
       "      <td>32.00</td>\n",
       "      <td>male</td>\n",
       "      <td>W</td>\n",
       "      <td>not_available</td>\n",
       "      <td>True</td>\n",
       "      <td>False</td>\n",
       "      <td>196</td>\n",
       "    </tr>\n",
       "    <tr>\n",
       "      <th>4</th>\n",
       "      <td>9</td>\n",
       "      <td>2015-01-04</td>\n",
       "      <td>point</td>\n",
       "      <td>not</td>\n",
       "      <td>other</td>\n",
       "      <td>Evans</td>\n",
       "      <td>Weld</td>\n",
       "      <td>CO</td>\n",
       "      <td>40.38</td>\n",
       "      <td>-104.69</td>\n",
       "      <td>not_available</td>\n",
       "      <td>Michael Rodriguez</td>\n",
       "      <td>39.00</td>\n",
       "      <td>male</td>\n",
       "      <td>H</td>\n",
       "      <td>not_available</td>\n",
       "      <td>False</td>\n",
       "      <td>False</td>\n",
       "      <td>473</td>\n",
       "    </tr>\n",
       "  </tbody>\n",
       "</table>\n",
       "</div>"
      ],
      "text/plain": [
       "   id        date threat_type flee_status armed_with           city  \\\n",
       "0   3  2015-01-02       point         not        gun        Shelton   \n",
       "1   4  2015-01-02       point         not        gun          Aloha   \n",
       "2   5  2015-01-03        move         not    unarmed        Wichita   \n",
       "3   8  2015-01-04       point         not    replica  San Francisco   \n",
       "4   9  2015-01-04       point         not      other          Evans   \n",
       "\n",
       "          county state  latitude  longitude location_precision  \\\n",
       "0          Mason    WA     47.25    -123.12      not_available   \n",
       "1     Washington    OR     45.49    -122.89      not_available   \n",
       "2       Sedgwick    KS     37.69     -97.28      not_available   \n",
       "3  San Francisco    CA     37.76    -122.42      not_available   \n",
       "4           Weld    CO     40.38    -104.69      not_available   \n",
       "\n",
       "                 name   age gender race    race_source  \\\n",
       "0          Tim Elliot 53.00   male    A  not_available   \n",
       "1    Lewis Lee Lembke 47.00   male    W  not_available   \n",
       "2  John Paul Quintero 23.00   male    H  not_available   \n",
       "3     Matthew Hoffman 32.00   male    W  not_available   \n",
       "4   Michael Rodriguez 39.00   male    H  not_available   \n",
       "\n",
       "   was_mental_illness_related  body_camera agency_ids  \n",
       "0                        True        False         73  \n",
       "1                       False        False         70  \n",
       "2                       False        False        238  \n",
       "3                        True        False        196  \n",
       "4                       False        False        473  "
      ]
     },
     "execution_count": 7,
     "metadata": {},
     "output_type": "execute_result"
    }
   ],
   "source": [
    "df_shootings.head()"
   ]
  },
  {
   "cell_type": "code",
   "execution_count": 8,
   "metadata": {},
   "outputs": [
    {
     "data": {
      "text/plain": [
       "(9567, 19)"
      ]
     },
     "execution_count": 8,
     "metadata": {},
     "output_type": "execute_result"
    }
   ],
   "source": [
    "df_shootings.shape"
   ]
  },
  {
   "cell_type": "code",
   "execution_count": 9,
   "metadata": {},
   "outputs": [
    {
     "data": {
      "text/html": [
       "<div>\n",
       "<style scoped>\n",
       "    .dataframe tbody tr th:only-of-type {\n",
       "        vertical-align: middle;\n",
       "    }\n",
       "\n",
       "    .dataframe tbody tr th {\n",
       "        vertical-align: top;\n",
       "    }\n",
       "\n",
       "    .dataframe thead th {\n",
       "        text-align: right;\n",
       "    }\n",
       "</style>\n",
       "<table border=\"1\" class=\"dataframe\">\n",
       "  <thead>\n",
       "    <tr style=\"text-align: right;\">\n",
       "      <th></th>\n",
       "      <th>id</th>\n",
       "      <th>name</th>\n",
       "      <th>type</th>\n",
       "      <th>state</th>\n",
       "      <th>oricodes</th>\n",
       "      <th>total_shootings</th>\n",
       "    </tr>\n",
       "  </thead>\n",
       "  <tbody>\n",
       "    <tr>\n",
       "      <th>3532</th>\n",
       "      <td>226</td>\n",
       "      <td>Yuba County Sheriff's Office</td>\n",
       "      <td>sheriff</td>\n",
       "      <td>CA</td>\n",
       "      <td>CA05800</td>\n",
       "      <td>5</td>\n",
       "    </tr>\n",
       "    <tr>\n",
       "      <th>3533</th>\n",
       "      <td>1874</td>\n",
       "      <td>Yuma County Sheriff's Department</td>\n",
       "      <td>sheriff</td>\n",
       "      <td>AZ</td>\n",
       "      <td>AZ01400</td>\n",
       "      <td>3</td>\n",
       "    </tr>\n",
       "    <tr>\n",
       "      <th>3534</th>\n",
       "      <td>1360</td>\n",
       "      <td>Yuma Police Department</td>\n",
       "      <td>local_police</td>\n",
       "      <td>AZ</td>\n",
       "      <td>AZ01405</td>\n",
       "      <td>3</td>\n",
       "    </tr>\n",
       "    <tr>\n",
       "      <th>3535</th>\n",
       "      <td>3077</td>\n",
       "      <td>Zapata County Sheriff's Department</td>\n",
       "      <td>sheriff</td>\n",
       "      <td>TX</td>\n",
       "      <td>TX25300</td>\n",
       "      <td>1</td>\n",
       "    </tr>\n",
       "    <tr>\n",
       "      <th>3536</th>\n",
       "      <td>75</td>\n",
       "      <td>Zion Police Department</td>\n",
       "      <td>local_police</td>\n",
       "      <td>IL</td>\n",
       "      <td>IL04923</td>\n",
       "      <td>3</td>\n",
       "    </tr>\n",
       "  </tbody>\n",
       "</table>\n",
       "</div>"
      ],
      "text/plain": [
       "        id                                name          type state oricodes  \\\n",
       "3532   226        Yuba County Sheriff's Office       sheriff    CA  CA05800   \n",
       "3533  1874    Yuma County Sheriff's Department       sheriff    AZ  AZ01400   \n",
       "3534  1360              Yuma Police Department  local_police    AZ  AZ01405   \n",
       "3535  3077  Zapata County Sheriff's Department       sheriff    TX  TX25300   \n",
       "3536    75              Zion Police Department  local_police    IL  IL04923   \n",
       "\n",
       "      total_shootings  \n",
       "3532                5  \n",
       "3533                3  \n",
       "3534                3  \n",
       "3535                1  \n",
       "3536                3  "
      ]
     },
     "execution_count": 9,
     "metadata": {},
     "output_type": "execute_result"
    }
   ],
   "source": [
    "df_shootings_agencies.tail()"
   ]
  },
  {
   "cell_type": "code",
   "execution_count": 10,
   "metadata": {},
   "outputs": [
    {
     "data": {
      "text/plain": [
       "(3537, 6)"
      ]
     },
     "execution_count": 10,
     "metadata": {},
     "output_type": "execute_result"
    }
   ],
   "source": [
    "df_shootings_agencies.shape"
   ]
  },
  {
   "cell_type": "code",
   "execution_count": 11,
   "metadata": {},
   "outputs": [
    {
     "name": "stdout",
     "output_type": "stream",
     "text": [
      "<class 'pandas.core.frame.DataFrame'>\n",
      "RangeIndex: 9567 entries, 0 to 9566\n",
      "Data columns (total 19 columns):\n",
      " #   Column                      Non-Null Count  Dtype  \n",
      "---  ------                      --------------  -----  \n",
      " 0   id                          9567 non-null   int64  \n",
      " 1   date                        9567 non-null   object \n",
      " 2   threat_type                 9499 non-null   object \n",
      " 3   flee_status                 8260 non-null   object \n",
      " 4   armed_with                  9355 non-null   object \n",
      " 5   city                        9497 non-null   object \n",
      " 6   county                      4845 non-null   object \n",
      " 7   state                       9567 non-null   object \n",
      " 8   latitude                    8512 non-null   float64\n",
      " 9   longitude                   8512 non-null   float64\n",
      " 10  location_precision          8512 non-null   object \n",
      " 11  name                        9222 non-null   object \n",
      " 12  age                         9182 non-null   float64\n",
      " 13  gender                      9541 non-null   object \n",
      " 14  race                        8444 non-null   object \n",
      " 15  race_source                 8470 non-null   object \n",
      " 16  was_mental_illness_related  9567 non-null   bool   \n",
      " 17  body_camera                 9567 non-null   bool   \n",
      " 18  agency_ids                  9567 non-null   object \n",
      "dtypes: bool(2), float64(3), int64(1), object(13)\n",
      "memory usage: 1.3+ MB\n"
     ]
    }
   ],
   "source": [
    "df_shootings.info()"
   ]
  },
  {
   "cell_type": "code",
   "execution_count": 12,
   "metadata": {},
   "outputs": [
    {
     "name": "stdout",
     "output_type": "stream",
     "text": [
      "<class 'pandas.core.frame.DataFrame'>\n",
      "RangeIndex: 3537 entries, 0 to 3536\n",
      "Data columns (total 6 columns):\n",
      " #   Column           Non-Null Count  Dtype \n",
      "---  ------           --------------  ----- \n",
      " 0   id               3537 non-null   int64 \n",
      " 1   name             3537 non-null   object\n",
      " 2   type             3537 non-null   object\n",
      " 3   state            3537 non-null   object\n",
      " 4   oricodes         3409 non-null   object\n",
      " 5   total_shootings  3537 non-null   int64 \n",
      "dtypes: int64(2), object(4)\n",
      "memory usage: 165.9+ KB\n"
     ]
    }
   ],
   "source": [
    "df_shootings_agencies.info()"
   ]
  },
  {
   "cell_type": "code",
   "execution_count": 13,
   "metadata": {},
   "outputs": [
    {
     "data": {
      "text/html": [
       "<div>\n",
       "<style scoped>\n",
       "    .dataframe tbody tr th:only-of-type {\n",
       "        vertical-align: middle;\n",
       "    }\n",
       "\n",
       "    .dataframe tbody tr th {\n",
       "        vertical-align: top;\n",
       "    }\n",
       "\n",
       "    .dataframe thead th {\n",
       "        text-align: right;\n",
       "    }\n",
       "</style>\n",
       "<table border=\"1\" class=\"dataframe\">\n",
       "  <thead>\n",
       "    <tr style=\"text-align: right;\">\n",
       "      <th></th>\n",
       "      <th>id</th>\n",
       "      <th>date</th>\n",
       "      <th>threat_type</th>\n",
       "      <th>flee_status</th>\n",
       "      <th>armed_with</th>\n",
       "      <th>city</th>\n",
       "      <th>county</th>\n",
       "      <th>state</th>\n",
       "      <th>latitude</th>\n",
       "      <th>longitude</th>\n",
       "      <th>location_precision</th>\n",
       "      <th>name</th>\n",
       "      <th>age</th>\n",
       "      <th>gender</th>\n",
       "      <th>race</th>\n",
       "      <th>race_source</th>\n",
       "      <th>was_mental_illness_related</th>\n",
       "      <th>body_camera</th>\n",
       "      <th>agency_ids</th>\n",
       "    </tr>\n",
       "  </thead>\n",
       "  <tbody>\n",
       "    <tr>\n",
       "      <th>0</th>\n",
       "      <td>3</td>\n",
       "      <td>2015-01-02</td>\n",
       "      <td>point</td>\n",
       "      <td>not</td>\n",
       "      <td>gun</td>\n",
       "      <td>Shelton</td>\n",
       "      <td>Mason</td>\n",
       "      <td>WA</td>\n",
       "      <td>47.25</td>\n",
       "      <td>-123.12</td>\n",
       "      <td>not_available</td>\n",
       "      <td>Tim Elliot</td>\n",
       "      <td>53.00</td>\n",
       "      <td>male</td>\n",
       "      <td>A</td>\n",
       "      <td>not_available</td>\n",
       "      <td>True</td>\n",
       "      <td>False</td>\n",
       "      <td>73</td>\n",
       "    </tr>\n",
       "  </tbody>\n",
       "</table>\n",
       "</div>"
      ],
      "text/plain": [
       "   id        date threat_type flee_status armed_with     city county state  \\\n",
       "0   3  2015-01-02       point         not        gun  Shelton  Mason    WA   \n",
       "\n",
       "   latitude  longitude location_precision        name   age gender race  \\\n",
       "0     47.25    -123.12      not_available  Tim Elliot 53.00   male    A   \n",
       "\n",
       "     race_source  was_mental_illness_related  body_camera agency_ids  \n",
       "0  not_available                        True        False         73  "
      ]
     },
     "execution_count": 13,
     "metadata": {},
     "output_type": "execute_result"
    }
   ],
   "source": [
    "df_shootings.head(1)"
   ]
  },
  {
   "cell_type": "code",
   "execution_count": 14,
   "metadata": {},
   "outputs": [],
   "source": [
    "df_check = df_shootings[df_shootings['agency_ids'] == '73']\n"
   ]
  },
  {
   "cell_type": "code",
   "execution_count": 15,
   "metadata": {},
   "outputs": [
    {
     "data": {
      "text/html": [
       "<div>\n",
       "<style scoped>\n",
       "    .dataframe tbody tr th:only-of-type {\n",
       "        vertical-align: middle;\n",
       "    }\n",
       "\n",
       "    .dataframe tbody tr th {\n",
       "        vertical-align: top;\n",
       "    }\n",
       "\n",
       "    .dataframe thead th {\n",
       "        text-align: right;\n",
       "    }\n",
       "</style>\n",
       "<table border=\"1\" class=\"dataframe\">\n",
       "  <thead>\n",
       "    <tr style=\"text-align: right;\">\n",
       "      <th></th>\n",
       "      <th>id</th>\n",
       "      <th>date</th>\n",
       "      <th>threat_type</th>\n",
       "      <th>flee_status</th>\n",
       "      <th>armed_with</th>\n",
       "      <th>city</th>\n",
       "      <th>county</th>\n",
       "      <th>state</th>\n",
       "      <th>latitude</th>\n",
       "      <th>longitude</th>\n",
       "      <th>location_precision</th>\n",
       "      <th>name</th>\n",
       "      <th>age</th>\n",
       "      <th>gender</th>\n",
       "      <th>race</th>\n",
       "      <th>race_source</th>\n",
       "      <th>was_mental_illness_related</th>\n",
       "      <th>body_camera</th>\n",
       "      <th>agency_ids</th>\n",
       "    </tr>\n",
       "  </thead>\n",
       "  <tbody>\n",
       "    <tr>\n",
       "      <th>0</th>\n",
       "      <td>3</td>\n",
       "      <td>2015-01-02</td>\n",
       "      <td>point</td>\n",
       "      <td>not</td>\n",
       "      <td>gun</td>\n",
       "      <td>Shelton</td>\n",
       "      <td>Mason</td>\n",
       "      <td>WA</td>\n",
       "      <td>47.25</td>\n",
       "      <td>-123.12</td>\n",
       "      <td>not_available</td>\n",
       "      <td>Tim Elliot</td>\n",
       "      <td>53.00</td>\n",
       "      <td>male</td>\n",
       "      <td>A</td>\n",
       "      <td>not_available</td>\n",
       "      <td>True</td>\n",
       "      <td>False</td>\n",
       "      <td>73</td>\n",
       "    </tr>\n",
       "    <tr>\n",
       "      <th>629</th>\n",
       "      <td>758</td>\n",
       "      <td>2015-08-21</td>\n",
       "      <td>point</td>\n",
       "      <td>not</td>\n",
       "      <td>gun</td>\n",
       "      <td>Grapeview</td>\n",
       "      <td>Mason</td>\n",
       "      <td>WA</td>\n",
       "      <td>47.29</td>\n",
       "      <td>-122.92</td>\n",
       "      <td>not_available</td>\n",
       "      <td>Timmy Walling</td>\n",
       "      <td>57.00</td>\n",
       "      <td>male</td>\n",
       "      <td>W</td>\n",
       "      <td>not_available</td>\n",
       "      <td>True</td>\n",
       "      <td>False</td>\n",
       "      <td>73</td>\n",
       "    </tr>\n",
       "    <tr>\n",
       "      <th>5164</th>\n",
       "      <td>5685</td>\n",
       "      <td>2020-03-24</td>\n",
       "      <td>attack</td>\n",
       "      <td>car</td>\n",
       "      <td>vehicle</td>\n",
       "      <td>Shelton</td>\n",
       "      <td>NaN</td>\n",
       "      <td>WA</td>\n",
       "      <td>47.33</td>\n",
       "      <td>-122.96</td>\n",
       "      <td>not_available</td>\n",
       "      <td>Kathryn R. Hale</td>\n",
       "      <td>32.00</td>\n",
       "      <td>female</td>\n",
       "      <td>W</td>\n",
       "      <td>not_available</td>\n",
       "      <td>False</td>\n",
       "      <td>False</td>\n",
       "      <td>73</td>\n",
       "    </tr>\n",
       "  </tbody>\n",
       "</table>\n",
       "</div>"
      ],
      "text/plain": [
       "        id        date threat_type flee_status armed_with       city county  \\\n",
       "0        3  2015-01-02       point         not        gun    Shelton  Mason   \n",
       "629    758  2015-08-21       point         not        gun  Grapeview  Mason   \n",
       "5164  5685  2020-03-24      attack         car    vehicle    Shelton    NaN   \n",
       "\n",
       "     state  latitude  longitude location_precision             name   age  \\\n",
       "0       WA     47.25    -123.12      not_available       Tim Elliot 53.00   \n",
       "629     WA     47.29    -122.92      not_available    Timmy Walling 57.00   \n",
       "5164    WA     47.33    -122.96      not_available  Kathryn R. Hale 32.00   \n",
       "\n",
       "      gender race    race_source  was_mental_illness_related  body_camera  \\\n",
       "0       male    A  not_available                        True        False   \n",
       "629     male    W  not_available                        True        False   \n",
       "5164  female    W  not_available                       False        False   \n",
       "\n",
       "     agency_ids  \n",
       "0            73  \n",
       "629          73  \n",
       "5164         73  "
      ]
     },
     "execution_count": 15,
     "metadata": {},
     "output_type": "execute_result"
    }
   ],
   "source": [
    "df_check"
   ]
  },
  {
   "cell_type": "code",
   "execution_count": 21,
   "metadata": {},
   "outputs": [
    {
     "data": {
      "text/plain": [
       "body_camera\n",
       "False    7958\n",
       "True     1609\n",
       "Name: count, dtype: int64"
      ]
     },
     "execution_count": 21,
     "metadata": {},
     "output_type": "execute_result"
    }
   ],
   "source": [
    "df_shootings['body_camera'].value_counts()"
   ]
  },
  {
   "cell_type": "code",
   "execution_count": 16,
   "metadata": {},
   "outputs": [
    {
     "data": {
      "text/html": [
       "<div>\n",
       "<style scoped>\n",
       "    .dataframe tbody tr th:only-of-type {\n",
       "        vertical-align: middle;\n",
       "    }\n",
       "\n",
       "    .dataframe tbody tr th {\n",
       "        vertical-align: top;\n",
       "    }\n",
       "\n",
       "    .dataframe thead th {\n",
       "        text-align: right;\n",
       "    }\n",
       "</style>\n",
       "<table border=\"1\" class=\"dataframe\">\n",
       "  <thead>\n",
       "    <tr style=\"text-align: right;\">\n",
       "      <th></th>\n",
       "      <th>id</th>\n",
       "      <th>name</th>\n",
       "      <th>type</th>\n",
       "      <th>state</th>\n",
       "      <th>oricodes</th>\n",
       "      <th>total_shootings</th>\n",
       "    </tr>\n",
       "  </thead>\n",
       "  <tbody>\n",
       "    <tr>\n",
       "      <th>0</th>\n",
       "      <td>3145</td>\n",
       "      <td>Abbeville County Sheriff's Office</td>\n",
       "      <td>sheriff</td>\n",
       "      <td>SC</td>\n",
       "      <td>SC00100</td>\n",
       "      <td>1</td>\n",
       "    </tr>\n",
       "    <tr>\n",
       "      <th>1</th>\n",
       "      <td>2576</td>\n",
       "      <td>Aberdeen Police Department</td>\n",
       "      <td>local_police</td>\n",
       "      <td>WA</td>\n",
       "      <td>WA01401</td>\n",
       "      <td>1</td>\n",
       "    </tr>\n",
       "    <tr>\n",
       "      <th>2</th>\n",
       "      <td>2114</td>\n",
       "      <td>Abilene Police Department</td>\n",
       "      <td>local_police</td>\n",
       "      <td>TX</td>\n",
       "      <td>TX22101</td>\n",
       "      <td>4</td>\n",
       "    </tr>\n",
       "  </tbody>\n",
       "</table>\n",
       "</div>"
      ],
      "text/plain": [
       "     id                               name          type state oricodes  \\\n",
       "0  3145  Abbeville County Sheriff's Office       sheriff    SC  SC00100   \n",
       "1  2576         Aberdeen Police Department  local_police    WA  WA01401   \n",
       "2  2114          Abilene Police Department  local_police    TX  TX22101   \n",
       "\n",
       "   total_shootings  \n",
       "0                1  \n",
       "1                1  \n",
       "2                4  "
      ]
     },
     "execution_count": 16,
     "metadata": {},
     "output_type": "execute_result"
    }
   ],
   "source": [
    "df_shootings_agencies.head(3)"
   ]
  },
  {
   "cell_type": "code",
   "execution_count": 17,
   "metadata": {},
   "outputs": [],
   "source": [
    "df_check_agencies = df_shootings_agencies[df_shootings_agencies['id'] == 73]\n"
   ]
  },
  {
   "cell_type": "code",
   "execution_count": 19,
   "metadata": {},
   "outputs": [
    {
     "data": {
      "text/html": [
       "<div>\n",
       "<style scoped>\n",
       "    .dataframe tbody tr th:only-of-type {\n",
       "        vertical-align: middle;\n",
       "    }\n",
       "\n",
       "    .dataframe tbody tr th {\n",
       "        vertical-align: top;\n",
       "    }\n",
       "\n",
       "    .dataframe thead th {\n",
       "        text-align: right;\n",
       "    }\n",
       "</style>\n",
       "<table border=\"1\" class=\"dataframe\">\n",
       "  <thead>\n",
       "    <tr style=\"text-align: right;\">\n",
       "      <th></th>\n",
       "      <th>id</th>\n",
       "      <th>name</th>\n",
       "      <th>type</th>\n",
       "      <th>state</th>\n",
       "      <th>oricodes</th>\n",
       "      <th>total_shootings</th>\n",
       "    </tr>\n",
       "  </thead>\n",
       "  <tbody>\n",
       "    <tr>\n",
       "      <th>1953</th>\n",
       "      <td>73</td>\n",
       "      <td>Mason County Sheriff's Office</td>\n",
       "      <td>sheriff</td>\n",
       "      <td>WA</td>\n",
       "      <td>WA02300</td>\n",
       "      <td>3</td>\n",
       "    </tr>\n",
       "  </tbody>\n",
       "</table>\n",
       "</div>"
      ],
      "text/plain": [
       "      id                           name     type state oricodes  \\\n",
       "1953  73  Mason County Sheriff's Office  sheriff    WA  WA02300   \n",
       "\n",
       "      total_shootings  \n",
       "1953                3  "
      ]
     },
     "execution_count": 19,
     "metadata": {},
     "output_type": "execute_result"
    }
   ],
   "source": [
    "df_check_agencies"
   ]
  },
  {
   "cell_type": "code",
   "execution_count": 22,
   "metadata": {},
   "outputs": [
    {
     "name": "stderr",
     "output_type": "stream",
     "text": [
      "/var/folders/c7/h2h7b5ns6cb203lw7c9g07_40000gn/T/ipykernel_57250/1129647825.py:2: SettingWithCopyWarning: \n",
      "A value is trying to be set on a copy of a slice from a DataFrame.\n",
      "Try using .loc[row_indexer,col_indexer] = value instead\n",
      "\n",
      "See the caveats in the documentation: https://pandas.pydata.org/pandas-docs/stable/user_guide/indexing.html#returning-a-view-versus-a-copy\n",
      "  df_check_agencies['id'] = df_check_agencies['id'].astype(str)\n"
     ]
    }
   ],
   "source": [
    "# Convert \"id\" in agencies_df to string\n",
    "df_check_agencies['id'] = df_check_agencies['id'].astype(str)"
   ]
  },
  {
   "cell_type": "code",
   "execution_count": 24,
   "metadata": {},
   "outputs": [
    {
     "data": {
      "text/plain": [
       "(9426, 25)"
      ]
     },
     "execution_count": 24,
     "metadata": {},
     "output_type": "execute_result"
    }
   ],
   "source": [
    "\n",
    "\n",
    "df_shootings_agencies['id'] = df_shootings_agencies['id'].astype(str)\n",
    "df_shootings['agency_ids'] = df_shootings['agency_ids'].astype(str)\n",
    "\n",
    "# Attempt the merge again on the corrected data types\n",
    "merged_df = pd.merge(df_shootings_agencies, df_shootings, left_on='id', right_on='agency_ids', how='left')\n",
    "\n",
    "# Return the shape of the merged dataset to confirm successful join\n",
    "merged_df.shape\n"
   ]
  },
  {
   "cell_type": "code",
   "execution_count": 25,
   "metadata": {},
   "outputs": [
    {
     "data": {
      "text/plain": [
       "id_x                             0\n",
       "name_x                           0\n",
       "type                             0\n",
       "state_x                          0\n",
       "oricodes                       155\n",
       "total_shootings                  0\n",
       "id_y                           473\n",
       "date                           473\n",
       "threat_type                    536\n",
       "flee_status                   1689\n",
       "armed_with                     670\n",
       "city                           531\n",
       "county                        4937\n",
       "state_y                        473\n",
       "latitude                      1450\n",
       "longitude                     1450\n",
       "location_precision            1450\n",
       "name_y                         805\n",
       "age                            843\n",
       "gender                         498\n",
       "race                          1520\n",
       "race_source                   1495\n",
       "was_mental_illness_related     473\n",
       "body_camera                    473\n",
       "agency_ids                     473\n",
       "dtype: int64"
      ]
     },
     "execution_count": 25,
     "metadata": {},
     "output_type": "execute_result"
    }
   ],
   "source": [
    "merged_df.isnull().sum()"
   ]
  },
  {
   "cell_type": "code",
   "execution_count": null,
   "metadata": {},
   "outputs": [],
   "source": [
    "# Check if IDs from agencies_df are in data_df (after correcting data types)\n",
    "agencies_df['in_data_df'] = agencies_df['id'].isin(data_df['agency_ids'])\n",
    "\n"
   ]
  },
  {
   "cell_type": "code",
   "execution_count": null,
   "metadata": {},
   "outputs": [],
   "source": [
    "# Display the first few rows of the merged dataset and the updated agencies dataset\n",
    "merged_df.head(), agencies_df.head()"
   ]
  }
 ],
 "metadata": {
  "kernelspec": {
   "display_name": "Python 3.11.1 64-bit",
   "language": "python",
   "name": "python3"
  },
  "language_info": {
   "codemirror_mode": {
    "name": "ipython",
    "version": 3
   },
   "file_extension": ".py",
   "mimetype": "text/x-python",
   "name": "python",
   "nbconvert_exporter": "python",
   "pygments_lexer": "ipython3",
   "version": "3.11.1"
  },
  "orig_nbformat": 4,
  "vscode": {
   "interpreter": {
    "hash": "aee8b7b246df8f9039afb4144a1f6fd8d2ca17a180786b69acc140d282b71a49"
   }
  }
 },
 "nbformat": 4,
 "nbformat_minor": 2
}
